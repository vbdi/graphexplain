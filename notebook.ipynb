<!doctype html>
<html lang="en">
<head>
    <meta charset="utf-8">
    <title>JupyterLab</title>
    <meta name="viewport" content="width=device-width,initial-scale=1">
    <script id="jupyter-config-data" type="application/json">{
        "allow_hidden_files": true,
        "appName": "JupyterLab",
        "appNamespace": "lab",
        "appUrl": "/lab",
        "appVersion": "3.2.3",
        "baseUrl": "/console/",
        "buildAvailable": true,
        "buildCheck": false,
        "cacheFiles": false,
        "collaborative": false,
        "devMode": false,
        "disabledExtensions": [
            "@jupyterlab/filebrowser-extension:download",
            "@jupyterlab/filebrowser-extension:share-file",
            "@jupyterlab/filebrowser-extension:file-upload-status",
            "@jupyterlab/filebrowser-extension:factory",
            "@jupyterlab/help-extension:launch-classic",
            "@jupyterlab/apputils-extension:splash",
            "@jupyterlab/inspector-extension",
            "@jupyterlab/apputils-extension:resolver",
            "@jupyterlab/application-extension:main",
            "@jupyterlab/apputils-extension:workspaces"
        ],
        "exposeAppInBrowser": false,
        "extraLabextensionsPath": [],
        "federated_extensions": [
            {
                "extension": "./extension",
                "load": "static/remoteEntry.aa1060b2d1221f8e5688.js",
                "name": "jupyterlab_pygments",
                "style": "./style"
            },
            {
                "extension": "./extension",
                "load": "static/remoteEntry.509ecd914d0df11eb8e1.js",
                "name": "jupyter-matplotlib"
            },
            {
                "extension": "./extension",
                "load": "static/remoteEntry.249e02ea9427f8cca2ad.js",
                "mimeExtension": "./mimeExtension",
                "name": "jupyterlab-plotly"
            },
            {
                "extension": "./extension",
                "load": "static/remoteEntry.1bd01b57743def902f73.js",
                "name": "@jupyter-widgets/jupyterlab-manager"
            }
        ],
        "fullAppUrl": "/console/lab",
        "fullLabextensionsUrl": "/console/lab/extensions",
        "fullLicensesUrl": "/console/lab/api/licenses",
        "fullListingsUrl": "/console/lab/api/listings",
        "fullMathjaxUrl": "/console/static/components/MathJax/MathJax.js",
        "fullSettingsUrl": "/console/lab/api/settings",
        "fullStaticUrl": "/console/static/lab",
        "fullThemesUrl": "/console/lab/api/themes",
        "fullTranslationsApiUrl": "/console/lab/api/translations",
        "fullTreeUrl": "/console/lab/tree",
        "fullWorkspacesApiUrl": "/console/lab/api/workspaces",
        "ignorePlugins": [],
        "labconsole": true,
        "labextensionsUrl": "/lab/extensions",
        "licensesUrl": "/lab/api/licenses",
        "listingsUrl": "/lab/api/listings",
        "mathjaxConfig": "TeX-AMS-MML_HTMLorMML-full,Safe",
        "mode": "multiple-document",
        "notebookStartsKernel": true,
        "notebookVersion": "[1, 11, 2]",
        "preferredPath": "/",
        "quitButton": true,
        "serverRoot": "~/work",
        "settingsUrl": "/lab/api/settings",
        "store_id": 19,
        "terminalsAvailable": true,
        "themesUrl": "/lab/api/themes",
        "translationsApiUrl": "/lab/api/translations",
        "treePath": "",
        "treeUrl": "/lab/tree",
        "workspace": "default",
        "workspacesApiUrl": "/lab/api/workspaces",
        "wsUrl": ""
    }</script>
    <link rel="icon" type="image/x-icon" href="/console/static/favicons/favicon.ico" class="idle favicon">
    <link rel="" type="image/x-icon" href="/console/static/favicons/favicon-busy-1.ico" class="busy favicon">
    <style>.picture {
        background: url("/console/static/base/images/modelarts-splash.gif");
        width: 144px;
        height: 144px;
        position: absolute;
        left: calc(50% - 72px);
        top: calc(50% - 72px);
    }</style>
    <script defer="defer" src="/console/static/lab/main.6377c25757718c255376.js?v=6377c25757718c255376"></script>
</head>
<body>
<div id="loading">
    <div class="picture"></div>
</div>
<link rel="stylesheet" type="text/css" href="lab/api/themes/@jupyterlab/theme-light-extension/index.css">
</body>
</html>
